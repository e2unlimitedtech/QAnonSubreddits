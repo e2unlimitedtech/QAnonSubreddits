{
 "cells": [
  {
   "cell_type": "code",
   "execution_count": 30,
   "id": "69ebaf31",
   "metadata": {},
   "outputs": [],
   "source": [
    "import re\n",
    "import pickle\n",
    "import numpy as np\n",
    "import pandas as pd\n",
    "from nltk.util import ngrams\n",
    "from nltk import word_tokenize\n",
    "import matplotlib.pyplot as plt\n",
    "from nltk.corpus import stopwords\n",
    "import itertools\n",
    "from prettytable import PrettyTable\n",
    "from nltk.stem import WordNetLemmatizer \n",
    "from IPython.display import clear_output\n",
    "import os\n",
    "\n",
    "#set working directory\n",
    "os.chdir('../qanon_data/')"
   ]
  },
  {
   "cell_type": "markdown",
   "id": "8b33927b",
   "metadata": {},
   "source": [
    "# Setup"
   ]
  },
  {
   "cell_type": "markdown",
   "id": "bd83a7ff",
   "metadata": {},
   "source": [
    "### Read the files"
   ]
  },
  {
   "cell_type": "code",
   "execution_count": 2,
   "id": "2283ead4",
   "metadata": {},
   "outputs": [],
   "source": [
    "subs = pd.read_csv(\"qanon_subs.csv\", index_col=0)\n",
    "coms = pd.read_csv(\"qanon_coms.csv\", index_col=0)\n",
    "hsd = pd.read_csv(\"hsd.csv\")\n",
    "egl = pd.read_csv(\"egl.csv\")"
   ]
  },
  {
   "cell_type": "code",
   "execution_count": 3,
   "id": "f0f78e9e",
   "metadata": {},
   "outputs": [],
   "source": [
    "with open(\"psubs.pickle\", \"rb\") as fp:   # Unpickling\n",
    "    psubs = pickle.load(fp)\n",
    "\n",
    "with open(\"pcoms.pickle\", \"rb\") as fp:   # Unpickling\n",
    "    pcoms = pickle.load(fp)\n",
    "\n",
    "with open(\"pegl.pickle\", \"rb\") as fp:   # Unpickling\n",
    "    pegl = pickle.load(fp)\n",
    "\n",
    "with open(\"phsd.pickle\", \"rb\") as fp:   # Unpickling\n",
    "    phsd = pickle.load(fp)"
   ]
  },
  {
   "cell_type": "code",
   "execution_count": 4,
   "id": "4b88a66d",
   "metadata": {},
   "outputs": [
    {
     "data": {
      "text/html": [
       "<div>\n",
       "<style scoped>\n",
       "    .dataframe tbody tr th:only-of-type {\n",
       "        vertical-align: middle;\n",
       "    }\n",
       "\n",
       "    .dataframe tbody tr th {\n",
       "        vertical-align: top;\n",
       "    }\n",
       "\n",
       "    .dataframe thead th {\n",
       "        text-align: right;\n",
       "    }\n",
       "</style>\n",
       "<table border=\"1\" class=\"dataframe\">\n",
       "  <thead>\n",
       "    <tr style=\"text-align: right;\">\n",
       "      <th></th>\n",
       "      <th>author</th>\n",
       "      <th>subreddit</th>\n",
       "      <th>created_utc</th>\n",
       "      <th>post_id</th>\n",
       "      <th>title</th>\n",
       "      <th>selftext</th>\n",
       "      <th>score</th>\n",
       "      <th>text</th>\n",
       "    </tr>\n",
       "  </thead>\n",
       "  <tbody>\n",
       "    <tr>\n",
       "      <th>0</th>\n",
       "      <td>-4D-</td>\n",
       "      <td>CBTS_Stream</td>\n",
       "      <td>2017-12-20 00:24:12</td>\n",
       "      <td>7kzb51</td>\n",
       "      <td>Hello all</td>\n",
       "      <td>This is so new to me  Reddit never used befor...</td>\n",
       "      <td>9</td>\n",
       "      <td>Hello all This is so new to me  Reddit never u...</td>\n",
       "    </tr>\n",
       "    <tr>\n",
       "      <th>1</th>\n",
       "      <td>-4D-</td>\n",
       "      <td>CBTS_Stream</td>\n",
       "      <td>2017-12-20 03:26:25</td>\n",
       "      <td>7l042s</td>\n",
       "      <td>Crypto</td>\n",
       "      <td>Is it safe to say that crypto currencies are ...</td>\n",
       "      <td>1</td>\n",
       "      <td>Crypto Is it safe to say that crypto currencie...</td>\n",
       "    </tr>\n",
       "    <tr>\n",
       "      <th>2</th>\n",
       "      <td>-4D-</td>\n",
       "      <td>CBTS_Stream</td>\n",
       "      <td>2018-01-04 10:38:59</td>\n",
       "      <td>7o3ql8</td>\n",
       "      <td>Note Treys words. He mentioned seeing the evid...</td>\n",
       "      <td></td>\n",
       "      <td>225</td>\n",
       "      <td>Note Treys words. He mentioned seeing the evid...</td>\n",
       "    </tr>\n",
       "    <tr>\n",
       "      <th>3</th>\n",
       "      <td>-4D-</td>\n",
       "      <td>CBTS_Stream</td>\n",
       "      <td>2018-01-04 18:57:54</td>\n",
       "      <td>7o71u3</td>\n",
       "      <td>We ask who Q is. Have I just stumbled on what ...</td>\n",
       "      <td>Hi to all my fellow truthers out there. I hav...</td>\n",
       "      <td>44</td>\n",
       "      <td>We ask who Q is. Have I just stumbled on what ...</td>\n",
       "    </tr>\n",
       "    <tr>\n",
       "      <th>4</th>\n",
       "      <td>-4D-</td>\n",
       "      <td>CBTS_Stream</td>\n",
       "      <td>2018-01-10 10:59:46</td>\n",
       "      <td>7pghf7</td>\n",
       "      <td>Is this where we will see POTUS make a move to...</td>\n",
       "      <td></td>\n",
       "      <td>4</td>\n",
       "      <td>Is this where we will see POTUS make a move to...</td>\n",
       "    </tr>\n",
       "  </tbody>\n",
       "</table>\n",
       "</div>"
      ],
      "text/plain": [
       "  author    subreddit          created_utc post_id  \\\n",
       "0   -4D-  CBTS_Stream  2017-12-20 00:24:12  7kzb51   \n",
       "1   -4D-  CBTS_Stream  2017-12-20 03:26:25  7l042s   \n",
       "2   -4D-  CBTS_Stream  2018-01-04 10:38:59  7o3ql8   \n",
       "3   -4D-  CBTS_Stream  2018-01-04 18:57:54  7o71u3   \n",
       "4   -4D-  CBTS_Stream  2018-01-10 10:59:46  7pghf7   \n",
       "\n",
       "                                               title  \\\n",
       "0                                          Hello all   \n",
       "1                                             Crypto   \n",
       "2  Note Treys words. He mentioned seeing the evid...   \n",
       "3  We ask who Q is. Have I just stumbled on what ...   \n",
       "4  Is this where we will see POTUS make a move to...   \n",
       "\n",
       "                                            selftext  score  \\\n",
       "0   This is so new to me  Reddit never used befor...      9   \n",
       "1   Is it safe to say that crypto currencies are ...      1   \n",
       "2                                                       225   \n",
       "3   Hi to all my fellow truthers out there. I hav...     44   \n",
       "4                                                         4   \n",
       "\n",
       "                                                text  \n",
       "0  Hello all This is so new to me  Reddit never u...  \n",
       "1  Crypto Is it safe to say that crypto currencie...  \n",
       "2  Note Treys words. He mentioned seeing the evid...  \n",
       "3  We ask who Q is. Have I just stumbled on what ...  \n",
       "4  Is this where we will see POTUS make a move to...  "
      ]
     },
     "execution_count": 4,
     "metadata": {},
     "output_type": "execute_result"
    }
   ],
   "source": [
    "subs.head()"
   ]
  },
  {
   "cell_type": "code",
   "execution_count": 5,
   "id": "640af327",
   "metadata": {},
   "outputs": [
    {
     "data": {
      "text/html": [
       "<div>\n",
       "<style scoped>\n",
       "    .dataframe tbody tr th:only-of-type {\n",
       "        vertical-align: middle;\n",
       "    }\n",
       "\n",
       "    .dataframe tbody tr th {\n",
       "        vertical-align: top;\n",
       "    }\n",
       "\n",
       "    .dataframe thead th {\n",
       "        text-align: right;\n",
       "    }\n",
       "</style>\n",
       "<table border=\"1\" class=\"dataframe\">\n",
       "  <thead>\n",
       "    <tr style=\"text-align: right;\">\n",
       "      <th></th>\n",
       "      <th>author</th>\n",
       "      <th>subreddit</th>\n",
       "      <th>created_utc</th>\n",
       "      <th>post_id</th>\n",
       "      <th>parent_comment_id</th>\n",
       "      <th>associated_sub_id</th>\n",
       "      <th>score</th>\n",
       "      <th>text</th>\n",
       "    </tr>\n",
       "  </thead>\n",
       "  <tbody>\n",
       "    <tr>\n",
       "      <th>0</th>\n",
       "      <td>--FaceMan--</td>\n",
       "      <td>CBTS_Stream</td>\n",
       "      <td>2018-02-21 15:32:59</td>\n",
       "      <td>dum5tjq</td>\n",
       "      <td>t3_7z2158</td>\n",
       "      <td>7z2158</td>\n",
       "      <td>1</td>\n",
       "      <td>WHAT SHOULD WE BE DOING ABOUT IT THEN....WHAT...</td>\n",
       "    </tr>\n",
       "    <tr>\n",
       "      <th>1</th>\n",
       "      <td>--FaceMan--</td>\n",
       "      <td>CBTS_Stream</td>\n",
       "      <td>2018-02-21 16:12:49</td>\n",
       "      <td>dum8i8u</td>\n",
       "      <td>t3_7z2158</td>\n",
       "      <td>7z2158</td>\n",
       "      <td>1</td>\n",
       "      <td>Q POSTS ARE HARMFUL TO DEEP STATE....NOT AT A...</td>\n",
       "    </tr>\n",
       "    <tr>\n",
       "      <th>2</th>\n",
       "      <td>--recursive</td>\n",
       "      <td>CBTS_Stream</td>\n",
       "      <td>2018-02-13 20:05:44</td>\n",
       "      <td>du7lj8v</td>\n",
       "      <td>t3_7xe1n0</td>\n",
       "      <td>7xe1n0</td>\n",
       "      <td>-3</td>\n",
       "      <td>&amp;gt;This is what we are fighting.  So you re ...</td>\n",
       "    </tr>\n",
       "    <tr>\n",
       "      <th>3</th>\n",
       "      <td>--recursive</td>\n",
       "      <td>CBTS_Stream</td>\n",
       "      <td>2018-02-14 17:35:47</td>\n",
       "      <td>du9agqj</td>\n",
       "      <td>t3_7xe1n0</td>\n",
       "      <td>7xe1n0</td>\n",
       "      <td>1</td>\n",
       "      <td>&amp;gt;They re not old and they re NOT people.  ...</td>\n",
       "    </tr>\n",
       "    <tr>\n",
       "      <th>4</th>\n",
       "      <td>-4D-</td>\n",
       "      <td>CBTS_Stream</td>\n",
       "      <td>2017-12-20 04:10:57</td>\n",
       "      <td>drii76e</td>\n",
       "      <td>t3_7kzz9k</td>\n",
       "      <td>7kzz9k</td>\n",
       "      <td>1</td>\n",
       "      <td>................. What the....... talk about ...</td>\n",
       "    </tr>\n",
       "  </tbody>\n",
       "</table>\n",
       "</div>"
      ],
      "text/plain": [
       "        author    subreddit          created_utc  post_id parent_comment_id  \\\n",
       "0  --FaceMan--  CBTS_Stream  2018-02-21 15:32:59  dum5tjq         t3_7z2158   \n",
       "1  --FaceMan--  CBTS_Stream  2018-02-21 16:12:49  dum8i8u         t3_7z2158   \n",
       "2  --recursive  CBTS_Stream  2018-02-13 20:05:44  du7lj8v         t3_7xe1n0   \n",
       "3  --recursive  CBTS_Stream  2018-02-14 17:35:47  du9agqj         t3_7xe1n0   \n",
       "4         -4D-  CBTS_Stream  2017-12-20 04:10:57  drii76e         t3_7kzz9k   \n",
       "\n",
       "  associated_sub_id  score                                               text  \n",
       "0            7z2158      1   WHAT SHOULD WE BE DOING ABOUT IT THEN....WHAT...  \n",
       "1            7z2158      1   Q POSTS ARE HARMFUL TO DEEP STATE....NOT AT A...  \n",
       "2            7xe1n0     -3   &gt;This is what we are fighting.  So you re ...  \n",
       "3            7xe1n0      1   &gt;They re not old and they re NOT people.  ...  \n",
       "4            7kzz9k      1   ................. What the....... talk about ...  "
      ]
     },
     "execution_count": 5,
     "metadata": {},
     "output_type": "execute_result"
    }
   ],
   "source": [
    "coms.head()"
   ]
  },
  {
   "cell_type": "code",
   "execution_count": 6,
   "id": "2be5252e",
   "metadata": {
    "scrolled": true
   },
   "outputs": [
    {
     "data": {
      "text/plain": [
       "[['_ASHKENAZI_', 'direct'],\n",
       " ['_ASHKENAZI_', 'direct'],\n",
       " ['_CRYPTOKIKE_', 'direct']]"
      ]
     },
     "execution_count": 6,
     "metadata": {},
     "output_type": "execute_result"
    }
   ],
   "source": [
    "pegl[:3]"
   ]
  },
  {
   "cell_type": "code",
   "execution_count": 54,
   "id": "f230804f",
   "metadata": {},
   "outputs": [
    {
     "data": {
      "text/plain": [
       "1261267"
      ]
     },
     "execution_count": 54,
     "metadata": {},
     "output_type": "execute_result"
    }
   ],
   "source": [
    "len(subs) + len(coms)"
   ]
  },
  {
   "cell_type": "markdown",
   "id": "aebad851",
   "metadata": {},
   "source": [
    "# Q1. Frequency of top explicit antisemitic terms\n",
    "\n",
    "Note: explicit comes form the expert generated list with label \"direct\" and anti-semitic comes from the hate speech dictionary with type \"anti-semitic\""
   ]
  },
  {
   "cell_type": "code",
   "execution_count": 7,
   "id": "48b2b30d",
   "metadata": {},
   "outputs": [],
   "source": [
    "#create a set for fast look-up and avoid dubplicates\n",
    "explicit_antisemitic_terms = set()\n",
    "\n",
    "for i in range(len(pegl)):\n",
    "    if pegl[i][1] == \"direct\":\n",
    "        explicit_antisemitic_terms.add(pegl[i][0])\n",
    "        \n",
    "for i in range(len(phsd)):\n",
    "    if phsd[i][1] == \"anti_semitic\":\n",
    "        explicit_antisemitic_terms.add(phsd[i][0])"
   ]
  },
  {
   "cell_type": "code",
   "execution_count": 8,
   "id": "72d6c130",
   "metadata": {},
   "outputs": [],
   "source": [
    "#Term Frequency = count all the appearences of the term, and I mean all of them\n",
    "#Document Frequency = count in how many documents a term appears in, here the term is counted only once in a doucment\n",
    "\n",
    "def tfdf(textLists, tf, df, terms):\n",
    "    for text in textLists: #for each post \n",
    "        #determine the term frequency\n",
    "        for chunk in text:\n",
    "            if chunk in terms :\n",
    "                tf[chunk] = tf.get(chunk, 0) + 1\n",
    "\n",
    "        #determine the document frequency\n",
    "        chunkSet = set(text) #remove duplicates\n",
    "        for chunk in chunkSet: #for eachcheck \n",
    "            if chunk in terms: #check if chunk is a chunk we are interested in\n",
    "                df[chunk] = df.get(chunk, 0) + 1\n",
    "                \n",
    "    return (tf, df)"
   ]
  },
  {
   "cell_type": "code",
   "execution_count": 9,
   "id": "fe08b0d5",
   "metadata": {},
   "outputs": [],
   "source": [
    "tf = {}\n",
    "df = {}\n",
    "tf, df = tfdf(psubs, tf, df, explicit_antisemitic_terms)\n",
    "tf, df = tfdf(pcoms, tf, df, explicit_antisemitic_terms)"
   ]
  },
  {
   "cell_type": "code",
   "execution_count": 10,
   "id": "6d870008",
   "metadata": {},
   "outputs": [
    {
     "data": {
      "text/html": [
       "<div>\n",
       "<style scoped>\n",
       "    .dataframe tbody tr th:only-of-type {\n",
       "        vertical-align: middle;\n",
       "    }\n",
       "\n",
       "    .dataframe tbody tr th {\n",
       "        vertical-align: top;\n",
       "    }\n",
       "\n",
       "    .dataframe thead th {\n",
       "        text-align: right;\n",
       "    }\n",
       "</style>\n",
       "<table border=\"1\" class=\"dataframe\">\n",
       "  <thead>\n",
       "    <tr style=\"text-align: right;\">\n",
       "      <th></th>\n",
       "      <th>term</th>\n",
       "      <th>freq</th>\n",
       "      <th>doc_freq</th>\n",
       "    </tr>\n",
       "  </thead>\n",
       "  <tbody>\n",
       "    <tr>\n",
       "      <th>0</th>\n",
       "      <td>_ZIONIST_</td>\n",
       "      <td>2232</td>\n",
       "      <td>1607</td>\n",
       "    </tr>\n",
       "    <tr>\n",
       "      <th>1</th>\n",
       "      <td>_JEW_</td>\n",
       "      <td>5873</td>\n",
       "      <td>3414</td>\n",
       "    </tr>\n",
       "    <tr>\n",
       "      <th>2</th>\n",
       "      <td>_ASHKENAZI_</td>\n",
       "      <td>233</td>\n",
       "      <td>2081</td>\n",
       "    </tr>\n",
       "    <tr>\n",
       "      <th>3</th>\n",
       "      <td>_JEWISH_</td>\n",
       "      <td>2990</td>\n",
       "      <td>150</td>\n",
       "    </tr>\n",
       "    <tr>\n",
       "      <th>4</th>\n",
       "      <td>_HEBREW_</td>\n",
       "      <td>1254</td>\n",
       "      <td>778</td>\n",
       "    </tr>\n",
       "  </tbody>\n",
       "</table>\n",
       "</div>"
      ],
      "text/plain": [
       "          term  freq  doc_freq\n",
       "0    _ZIONIST_  2232      1607\n",
       "1        _JEW_  5873      3414\n",
       "2  _ASHKENAZI_   233      2081\n",
       "3     _JEWISH_  2990       150\n",
       "4     _HEBREW_  1254       778"
      ]
     },
     "execution_count": 10,
     "metadata": {},
     "output_type": "execute_result"
    }
   ],
   "source": [
    "explicit_antisemitic_df = pd.DataFrame({\n",
    "    \"term\" : tf.keys(),\n",
    "    \"freq\": tf.values(),\n",
    "    \"doc_freq\": df.values()\n",
    "})\n",
    "explicit_antisemitic_df.to_csv(\"Explicit AntiSemitic Counts TFDFcsv\", sep=\",\")\n",
    "explicit_antisemitic_df.head()  "
   ]
  },
  {
   "cell_type": "code",
   "execution_count": 12,
   "id": "8392bcc4",
   "metadata": {},
   "outputs": [
    {
     "data": {
      "image/png": "[encoded data removed]",
      "text/plain": [
       "<Figure size 360x504 with 1 Axes>"
      ]
     },
     "metadata": {
      "needs_background": "light"
     },
     "output_type": "display_data"
    }
   ],
   "source": [
    "#sort the table by term frequency\n",
    "explicit_antisemitic_df.sort_values(by=[\"freq\"], ascending=True, inplace=True)\n",
    "\n",
    "top_terms = explicit_antisemitic_df.tail(20) # get top 15 terms\n",
    "words = top_terms['term'] # get the terms\n",
    "values = top_terms['freq'] # get count seperately\n",
    "\n",
    "fig = plt.figure(figsize=(5, 7))  # Set the figure size to 8x6 inches\n",
    "ax = fig.subplots()\n",
    "\n",
    "# Create the bar chart\n",
    "ax.barh(words, values)\n",
    "\n",
    "# Set the x-tick positions and labels\n",
    "maxValue = max(values) + 1001\n",
    "ax.set_xticks(np.arange(0, maxValue, 1000))\n",
    "ticks = [str(i) for i in range(0, maxValue, 1000)]\n",
    "ax.set_xticklabels(ticks, rotation=45)\n",
    "\n",
    "# Display major grid lines\n",
    "ax.grid(axis='x', which='major', color='gray', linestyle='--', linewidth=0.5)\n",
    "plt.title(\"Top 20 Explicit Anti-Semitic Terms by Term Frequency\")\n",
    "# Show the plot\n",
    "plt.show()"
   ]
  },
  {
   "cell_type": "code",
   "execution_count": 13,
   "id": "e4cc9c50",
   "metadata": {},
   "outputs": [
    {
     "data": {
      "image/png": "[encoded data removed]",
      "text/plain": [
       "<Figure size 360x504 with 1 Axes>"
      ]
     },
     "metadata": {
      "needs_background": "light"
     },
     "output_type": "display_data"
    }
   ],
   "source": [
    "#sort the table by doc freq\n",
    "explicit_antisemitic_df.sort_values(by=[\"doc_freq\"], ascending=True, inplace=True)\n",
    "\n",
    "top_terms = explicit_antisemitic_df.tail(20) # get first 15\n",
    "words = top_terms['term'] # get the terms\n",
    "values = top_terms['doc_freq'] # get count seperately\n",
    "\n",
    "fig = plt.figure(figsize=(5, 7))  # Set the figure size to 8x6 inches\n",
    "ax = fig.subplots()\n",
    "\n",
    "# Create the bar chart\n",
    "ax.barh(words, values)\n",
    "\n",
    "# Set the x-tick positions and labels\n",
    "ax.set_xticks(np.arange(0, maxValue, 1000))\n",
    "ax.set_xticklabels(ticks, rotation=45)\n",
    "\n",
    "# Display major grid lines\n",
    "ax.grid(axis='x', which='major', color='gray', linestyle='--', linewidth=0.5)\n",
    "plt.title(\"Top 20 Explicit Anti-Semitic Terms by Document Frequency \")\n",
    "# Show the plot\n",
    "plt.show()"
   ]
  },
  {
   "cell_type": "markdown",
   "id": "8c7b8db6",
   "metadata": {},
   "source": [
    "# 2. Propotions of submissions, comments and combined that include explicit-antisemitic language"
   ]
  },
  {
   "cell_type": "code",
   "execution_count": 14,
   "id": "50597020",
   "metadata": {},
   "outputs": [],
   "source": [
    "def proportions(textLists, terms, count = 0):\n",
    "    for text in textLists: #for each post \n",
    "\n",
    "        #determine the document frequency\n",
    "        chunkSet = set(text)\n",
    "        for chunk in chunkSet:\n",
    "            if chunk in terms :#once a post/comment has an explicit anti-semitic term\n",
    "                count += 1 #flag it \n",
    "                break #and stop\n",
    "                \n",
    "    return count"
   ]
  },
  {
   "cell_type": "code",
   "execution_count": 15,
   "id": "c0ce99d0",
   "metadata": {},
   "outputs": [
    {
     "name": "stdout",
     "output_type": "stream",
     "text": [
      "Proprotion of explicit, anti-semitic language in:\n",
      "\n",
      "Submissions: 0.56%\n",
      "Comments: 0.67%\n",
      "Combined: 0.66%\n"
     ]
    }
   ],
   "source": [
    "print(\"Proprotion of explicit, anti-semitic language in:\\n\")\n",
    "\n",
    "subs_prop = (proportions(psubs, explicit_antisemitic_terms) / len(psubs)) * 100\n",
    "print(\"Submissions: \" + str(round(subs_prop, 2)) + \"%\")\n",
    "\n",
    "coms_prop = (proportions(pcoms, explicit_antisemitic_terms) / len(pcoms)) * 100\n",
    "print(\"Comments: \" + str(round(coms_prop, 2)) + \"%\")\n",
    "\n",
    "combined_prop = (proportions(psubs + pcoms, explicit_antisemitic_terms) / len(psubs + pcoms)) * 100\n",
    "print(\"Combined: \" + str(round(combined_prop, 2)) + \"%\")"
   ]
  },
  {
   "cell_type": "markdown",
   "id": "31c26d65",
   "metadata": {},
   "source": []
  },
  {
   "cell_type": "markdown",
   "id": "8e6eb692",
   "metadata": {},
   "source": [
    "# 3. Top implicit anti-semitic terms\n",
    "\n",
    "Note: implicit anti-semitic terms are terms in the expert generate list that are labeled as \"indirect\", \"holocauset\" or \"israel\""
   ]
  },
  {
   "cell_type": "code",
   "execution_count": 16,
   "id": "dfe290b7",
   "metadata": {},
   "outputs": [],
   "source": [
    "implicit_antisemitic_terms = set()\n",
    "\n",
    "for i in range(len(pegl)):\n",
    "    if pegl[i][1] in [\"indirect\", \"holocaust\", \"israel\"]:\n",
    "        implicit_antisemitic_terms.add(pegl[i][0])"
   ]
  },
  {
   "cell_type": "code",
   "execution_count": 17,
   "id": "92011849",
   "metadata": {},
   "outputs": [],
   "source": [
    "tf = {}\n",
    "df = {}\n",
    "\n",
    "tf, df = tfdf(psubs, tf, df, implicit_antisemitic_terms)\n",
    "tf, df = tfdf(pcoms, tf, df, implicit_antisemitic_terms)"
   ]
  },
  {
   "cell_type": "code",
   "execution_count": 18,
   "id": "b51066a8",
   "metadata": {},
   "outputs": [
    {
     "data": {
      "text/html": [
       "<div>\n",
       "<style scoped>\n",
       "    .dataframe tbody tr th:only-of-type {\n",
       "        vertical-align: middle;\n",
       "    }\n",
       "\n",
       "    .dataframe tbody tr th {\n",
       "        vertical-align: top;\n",
       "    }\n",
       "\n",
       "    .dataframe thead th {\n",
       "        text-align: right;\n",
       "    }\n",
       "</style>\n",
       "<table border=\"1\" class=\"dataframe\">\n",
       "  <thead>\n",
       "    <tr style=\"text-align: right;\">\n",
       "      <th></th>\n",
       "      <th>term</th>\n",
       "      <th>freq</th>\n",
       "      <th>doc_freq</th>\n",
       "    </tr>\n",
       "  </thead>\n",
       "  <tbody>\n",
       "    <tr>\n",
       "      <th>0</th>\n",
       "      <td>_MOSSAD_</td>\n",
       "      <td>1319</td>\n",
       "      <td>1037</td>\n",
       "    </tr>\n",
       "    <tr>\n",
       "      <th>1</th>\n",
       "      <td>_DEEPSTATE_</td>\n",
       "      <td>22577</td>\n",
       "      <td>18035</td>\n",
       "    </tr>\n",
       "    <tr>\n",
       "      <th>2</th>\n",
       "      <td>_GLOBALIST_</td>\n",
       "      <td>11403</td>\n",
       "      <td>9153</td>\n",
       "    </tr>\n",
       "    <tr>\n",
       "      <th>3</th>\n",
       "      <td>_ILLUMINATI_</td>\n",
       "      <td>3686</td>\n",
       "      <td>524</td>\n",
       "    </tr>\n",
       "    <tr>\n",
       "      <th>4</th>\n",
       "      <td>_BILDERBERGS_</td>\n",
       "      <td>662</td>\n",
       "      <td>2834</td>\n",
       "    </tr>\n",
       "  </tbody>\n",
       "</table>\n",
       "</div>"
      ],
      "text/plain": [
       "            term   freq  doc_freq\n",
       "0       _MOSSAD_   1319      1037\n",
       "1    _DEEPSTATE_  22577     18035\n",
       "2    _GLOBALIST_  11403      9153\n",
       "3   _ILLUMINATI_   3686       524\n",
       "4  _BILDERBERGS_    662      2834"
      ]
     },
     "execution_count": 18,
     "metadata": {},
     "output_type": "execute_result"
    }
   ],
   "source": [
    "implicit_antisemitic_df = pd.DataFrame({\n",
    "    \"term\" : tf.keys(),\n",
    "    \"freq\": tf.values(),\n",
    "    \"doc_freq\": df.values()\n",
    "})\n",
    "implicit_antisemitic_df.to_csv(\"Implicit Antisemitic Count TFDF.csv\", sep=',')\n",
    "implicit_antisemitic_df.head() "
   ]
  },
  {
   "cell_type": "code",
   "execution_count": 19,
   "id": "7b411f9a",
   "metadata": {
    "scrolled": false
   },
   "outputs": [
    {
     "data": {
      "image/png": "[encoded data removed]",
      "text/plain": [
       "<Figure size 792x504 with 1 Axes>"
      ]
     },
     "metadata": {
      "needs_background": "light"
     },
     "output_type": "display_data"
    }
   ],
   "source": [
    "implicit_antisemitic_df.sort_values(by=[\"freq\"], ascending=True, inplace=True)\n",
    "\n",
    "top_terms = implicit_antisemitic_df.tail(20) # get first 15\n",
    "words = top_terms['term'] # get the terms\n",
    "values = top_terms['freq'] # get count seperately\n",
    "\n",
    "fig = plt.figure(figsize=(11, 7))  # Set the figure size to 8x6 inches\n",
    "ax = fig.subplots()\n",
    "\n",
    "# Create the bar chart\n",
    "ax.barh(words, values)\n",
    "\n",
    "# Set the x-tick positions and labels\n",
    "maxValue = max(values) + 1001\n",
    "ax.set_xticks(np.arange(0, maxValue, 1000))\n",
    "ticks = [str(i) for i in range(0, maxValue, 1000)]\n",
    "ax.set_xticklabels(ticks, rotation=45)\n",
    "\n",
    "# Display major grid lines\n",
    "ax.grid(axis='x', which='major', color='gray', linestyle='--', linewidth=0.5)\n",
    "plt.title(\"Top 20 Implicit Anti-Semitic Terms by Term Frequency\")\n",
    "# Show the plot\n",
    "plt.show()"
   ]
  },
  {
   "cell_type": "code",
   "execution_count": 20,
   "id": "a093ed93",
   "metadata": {
    "scrolled": false
   },
   "outputs": [
    {
     "data": {
      "image/png": "[encoded data removed]",
      "text/plain": [
       "<Figure size 792x504 with 1 Axes>"
      ]
     },
     "metadata": {
      "needs_background": "light"
     },
     "output_type": "display_data"
    }
   ],
   "source": [
    "implicit_antisemitic_df.sort_values(by=[\"doc_freq\"], ascending=True, inplace=True)\n",
    "top_terms = implicit_antisemitic_df.tail(20) # get first 15\n",
    "words = top_terms['term'] # get the terms\n",
    "values = top_terms['doc_freq'] # get count seperately\n",
    "\n",
    "fig = plt.figure(figsize=(11, 7))  # Set the figure size to 8x6 inches\n",
    "ax = fig.subplots()\n",
    "\n",
    "# Create the bar chart\n",
    "ax.barh(words, values)\n",
    "\n",
    "# Set the x-tick positions and labels\n",
    "ax.set_xticks(np.arange(0, maxValue, 1000))\n",
    "ax.set_xticklabels(ticks, rotation=45)\n",
    "\n",
    "# Display major grid lines\n",
    "ax.grid(axis='x', which='major', color='gray', linestyle='--', linewidth=0.5)\n",
    "plt.title(\"Top 20 Implicit Anti-Semitic Terms by Document Frequency\")\n",
    "# Show the plot\n",
    "plt.show()\n"
   ]
  },
  {
   "cell_type": "markdown",
   "id": "731d0232",
   "metadata": {},
   "source": []
  },
  {
   "cell_type": "markdown",
   "id": "7d6c8510",
   "metadata": {},
   "source": [
    "# 4. Implicit language proportions"
   ]
  },
  {
   "cell_type": "code",
   "execution_count": 22,
   "id": "4358d272",
   "metadata": {},
   "outputs": [
    {
     "name": "stdout",
     "output_type": "stream",
     "text": [
      "Proprotion of implicit anti-semitic language in:\n",
      "Submissions: 12.76%\n",
      "Comments: 8.13%\n",
      "Combined: 8.6%\n"
     ]
    }
   ],
   "source": [
    "print(\"Proprotion of implicit anti-semitic language in:\")\n",
    "\n",
    "subs_prop = (proportions(psubs, implicit_antisemitic_terms) / len(psubs)) * 100\n",
    "print(\"Submissions: \" + str(round(subs_prop, 2)) + \"%\")\n",
    "\n",
    "coms_prop = (proportions(pcoms, implicit_antisemitic_terms) / len(pcoms)) * 100\n",
    "print(\"Comments: \" + str(round(coms_prop, 2)) + \"%\")\n",
    "\n",
    "combined_prop = (proportions(psubs + pcoms, implicit_antisemitic_terms) / len(psubs + pcoms)) * 100\n",
    "print(\"Combined: \" + str(round(combined_prop, 2)) + \"%\")"
   ]
  },
  {
   "cell_type": "markdown",
   "id": "b14e1291",
   "metadata": {},
   "source": [
    "# 5. Co-ocurrence table of explicit and antisemitic terms\n",
    "\n",
    "Those are terms that appear both in EGL and HSD. More, these terms have a anti-semitic label in the Hate Speach Dictionary while also labeled as explicit in the expert generated list."
   ]
  },
  {
   "cell_type": "code",
   "execution_count": 23,
   "id": "c949af3b",
   "metadata": {},
   "outputs": [],
   "source": [
    "explicit_and_antisemitic = set() #avoid duplicates\n",
    "\n",
    "for i in range(len(pegl)):\n",
    "    if pegl[i][1] in [\"direct\"]:\n",
    "        explicit_and_antisemitic.add(pegl[i][0])\n",
    "\n",
    "for i in range(len(phsd)):\n",
    "    if phsd[i][1] == 'anti_semitic':\n",
    "        explicit_and_antisemitic.add(phsd[i][0])"
   ]
  },
  {
   "cell_type": "code",
   "execution_count": 24,
   "id": "48c94ce3",
   "metadata": {},
   "outputs": [],
   "source": [
    "def coocurrence(textLists, terms):\n",
    "    tuple_count = {}\n",
    "    \n",
    "    for text in textLists:\n",
    "        chunkSet = set(text)\n",
    "        \n",
    "        miniChunkSet = set() #holds only chunks that are in our terms list\n",
    "        for chunk in chunkSet:\n",
    "            if chunk in terms:\n",
    "                miniChunkSet.add(chunk)\n",
    "        \n",
    "        miniChunkList = list(miniChunkSet)\n",
    "        miniChunkList.sort()\n",
    "        combos = list(combinations(miniChunkList, 2))\n",
    "        \n",
    "        for pair in combos:\n",
    "            tuple_count[pair] = tuple_count.get(pair, 0) + 1\n",
    "\n",
    "    return tuple_count\n",
    "        "
   ]
  },
  {
   "cell_type": "code",
   "execution_count": 25,
   "id": "8af211d8",
   "metadata": {},
   "outputs": [],
   "source": [
    "co_table = coocurrence(psubs+pcoms, explicit_and_antisemitic)"
   ]
  },
  {
   "cell_type": "code",
   "execution_count": 26,
   "id": "88bc2dba",
   "metadata": {},
   "outputs": [
    {
     "data": {
      "text/plain": [
       "{('_ASHKENAZI_', '_JEWISH_'): 57,\n",
       " ('_JEWISH_', '_JEW_'): 648,\n",
       " ('_HEBREW_', '_JEW_'): 129,\n",
       " ('_JEW_', '_ZIONISM_'): 158,\n",
       " ('_JEWISH_', '_ZIONISM_'): 120,\n",
       " ('_JEWISH_', '_ZIONIST_'): 243,\n",
       " ('_JEW_', '_ZIONIST_'): 462,\n",
       " ('_ZIONISM_', '_ZIONIST_'): 135,\n",
       " ('_HEBREW_', '_JEWISH_'): 115,\n",
       " ('_ASHKENAZI_', '_JEW_'): 116,\n",
       " ('_ASHKENAZI_', '_KHAZAR_'): 20,\n",
       " ('_JEW_', '_KHAZAR_'): 60,\n",
       " ('_JEWISH_', '_JUDAISM_'): 114,\n",
       " ('_JEWISH_', '_MATZAH_'): 3,\n",
       " ('_JEW_', '_JUDAISM_'): 148,\n",
       " ('_JEW_', '_MATZAH_'): 3,\n",
       " ('_JUDAISM_', '_MATZAH_'): 1,\n",
       " ('_JUDAISM_', '_ZIONIST_'): 63,\n",
       " ('_MATZAH_', '_ZIONIST_'): 1,\n",
       " ('_GOY_', '_JEW_'): 64,\n",
       " ('_GOY_', '_KHAZAR_'): 3,\n",
       " ('_JUDAISM_', '_MOSES_'): 14,\n",
       " ('_HEBREW_', '_MOSES_'): 36,\n",
       " ('_JEWISH_', '_MOSES_'): 29,\n",
       " ('_JEW_', '_MOSES_'): 47,\n",
       " ('_JUDAISM_', '_ZIONISM_'): 53,\n",
       " ('_JEWISH_', '_JEWRY_'): 13,\n",
       " ('_GOY_', '_HEBREW_'): 4,\n",
       " ('_GOY_', '_JUDAISM_'): 5,\n",
       " ('_HEBREW_', '_JUDAISM_'): 29,\n",
       " ('_HATEJEW_', '_JEWISH_'): 8,\n",
       " ('_HATEJEW_', '_JEW_'): 17,\n",
       " ('_GOY_', '_JEWISH_'): 24,\n",
       " ('_HOLLYWEIRD_', '_ZIONIST_'): 2,\n",
       " ('_HEBREW_', '_ZIONISM_'): 25,\n",
       " ('_ASHKENAZI_', '_ZIONIST_'): 24,\n",
       " ('_HEBREW_', '_ZIONIST_'): 28,\n",
       " ('_MOSES_', '_ZIONIST_'): 9,\n",
       " ('_GOLDBERG_', '_JEWISH_'): 2,\n",
       " ('_HOLLYWEIRD_', '_JEWISH_'): 1,\n",
       " ('_HOLLYWEIRD_', '_MOSES_'): 1,\n",
       " ('_JEW_', '_KIKE_'): 7,\n",
       " ('_ASHKENAZI_', '_GOY_'): 3,\n",
       " ('_JEWISH_', '_KOSHER_'): 9,\n",
       " ('_JEW_', '_KOSHER_'): 11,\n",
       " ('_JEWISHQUESTION_', '_JEW_'): 6,\n",
       " ('_ASHKENAZI_', '_HEBREW_'): 11,\n",
       " ('_ASHKENAZI_', '_MOSES_'): 6,\n",
       " ('_ASHKENAZI_', '_ZIONISM_'): 7,\n",
       " ('_MOSES_', '_ZIONISM_'): 9,\n",
       " ('_GOY_', '_ZIONISM_'): 6,\n",
       " ('_GOY_', '_ZIONIST_'): 22,\n",
       " ('_HATEJEW_', '_KIKE_'): 1,\n",
       " ('_JEWISH_', '_KIKE_'): 7,\n",
       " ('_ASHKENAZI_', '_JUDAISM_'): 19,\n",
       " ('_ZIONIST_', '_ZOG_'): 11,\n",
       " ('_JEW_', '_ZOG_'): 11,\n",
       " ('_GASCHAMBER_', '_GOY_'): 1,\n",
       " ('_GASCHAMBER_', '_JEW_'): 12,\n",
       " ('_GASCHAMBER_', '_SHLOMO_'): 1,\n",
       " ('_GOY_', '_SHLOMO_'): 1,\n",
       " ('_JEW_', '_SHLOMO_'): 3,\n",
       " ('_HEBREW_', '_ZIO_'): 1,\n",
       " ('_JUDAISM_', '_ZIO_'): 1,\n",
       " ('_JEWISHQUESTION_', '_JEWISH_'): 4,\n",
       " ('_KIKE_', '_NIGGERJEW_'): 2,\n",
       " ('_KIKE_', '_ZIONIST_'): 3,\n",
       " ('_HOOKNOSE_', '_KIKE_'): 1,\n",
       " ('_JEWISH_', '_JUBU_'): 1,\n",
       " ('_JEW_', '_JUBU_'): 1,\n",
       " ('_JEW_', '_NATIONALZIONIST_'): 2,\n",
       " ('_JEWISH_', '_KHAZAR_'): 28,\n",
       " ('_KOSHER_', '_SHLOMO_'): 1,\n",
       " ('_GOODGOY_', '_JEW_'): 1,\n",
       " ('_JEWHATER_', '_JEW_'): 10,\n",
       " ('_JEWHATER_', '_ZIONISM_'): 3,\n",
       " ('_JEWHATER_', '_ZIONIST_'): 4,\n",
       " ('_JEWISHQUESTION_', '_ZIONIST_'): 3,\n",
       " ('_JEW_', '_ZIO_'): 1,\n",
       " ('_JEWISH_', '_JEWMEDIA_'): 1,\n",
       " ('_JEWMEDIA_', '_JEW_'): 1,\n",
       " ('_KHAZAR_', '_ZIONIST_'): 28,\n",
       " ('_KHAZAR_', '_MOSES_'): 3,\n",
       " ('_JEWWATCH_', '_JEW_'): 5,\n",
       " ('_JEW_', '_SNOWBIRD_'): 1,\n",
       " ('_SNOWBIRD_', '_ZIONIST_'): 1,\n",
       " ('_KOSHER_', '_ZIONIST_'): 3,\n",
       " ('_HEBREW_', '_KHAZAR_'): 6,\n",
       " ('_KHAZAR_', '_ZIONISM_'): 4,\n",
       " ('_JEWISHQUESTION_', '_JUDAISM_'): 2,\n",
       " ('_JEWISHLOBBY_', '_JEWISH_'): 4,\n",
       " ('_JEWISHLOBBY_', '_JEW_'): 7,\n",
       " ('_JEWISHLOBBY_', '_KIKE_'): 1,\n",
       " ('_JEWISHLOBBY_', '_ZIONIST_'): 5,\n",
       " ('_GASCHAMBER_', '_JEWISH_'): 5,\n",
       " ('_HEBREW_', '_SHLOMO_'): 1,\n",
       " ('_JEWISH_', '_SHLOMO_'): 4,\n",
       " ('_JUDAISM_', '_KHAZAR_'): 17,\n",
       " ('_JEWSCONTROL_', '_JEW_'): 3,\n",
       " ('_JEWRY_', '_JEW_'): 7,\n",
       " ('_JEWISH_', '_WANDERINGJEW_'): 1,\n",
       " ('_JEW_', '_WANDERINGJEW_'): 1,\n",
       " ('_JEW_', '_JOOZ_'): 1,\n",
       " ('_GOY_', '_JEWBANKER_'): 1,\n",
       " ('_JEWBANKER_', '_ZIONIST_'): 1,\n",
       " ('_HEBREW_', '_KOSHER_'): 3,\n",
       " ('_KHAZAR_', '_ZIO_'): 1,\n",
       " ('_HEBREW_', '_ZIONAZI_'): 1,\n",
       " ('_GOODGOY_', '_GOY_'): 2,\n",
       " ('_GOODGOY_', '_ZIONIST_'): 1,\n",
       " ('_JEWBANKER_', '_JEW_'): 1,\n",
       " ('_JEWISH_', '_JEWS_'): 2,\n",
       " ('_JEWS_', '_JEW_'): 2,\n",
       " ('_JEW_', '_SHYLOCK_'): 1,\n",
       " ('_SHYLOCK_', '_ZIONIST_'): 1,\n",
       " ('_HOLLYWEIRD_', '_JEW_'): 2,\n",
       " ('_SHLOMO_', '_ZIONIST_'): 1,\n",
       " ('_JEWISH_', '_MOCKEY_'): 1,\n",
       " ('_JEW_', '_MOCKEY_'): 1,\n",
       " ('_SCOOBYDOO_', '_ZIONIST_'): 1,\n",
       " ('_CHRISTKILLER_', '_JEWISH_'): 1,\n",
       " ('_CHRISTKILLER_', '_JEW_'): 1,\n",
       " ('_JEWHATER_', '_JEWISHLOBBY_'): 1,\n",
       " ('_539_', '_ZIONISM_'): 1,\n",
       " ('_GASCHAMBER_', '_HEBREW_'): 2,\n",
       " ('_NATIONALZIONIST_', '_ZIONAZI_'): 1,\n",
       " ('_GOY_', '_MATZAH_'): 1,\n",
       " ('_ASHKENAZI_', '_BIGNOSE_'): 1,\n",
       " ('_BIGNOSE_', '_JEW_'): 1,\n",
       " ('_ZIONISM_', '_ZIO_'): 2,\n",
       " ('_BIGNOSE_', '_ZIONIST_'): 1,\n",
       " ('_JEWRY_', '_ZIONISM_'): 3,\n",
       " ('_JEWRY_', '_ZIO_'): 1,\n",
       " ('_JEWISH_', '_NATIONALZIONIST_'): 1,\n",
       " ('_NATIONALZIONIST_', '_ZIONIST_'): 1,\n",
       " ('_JEWISHSUPREMACY_', '_JEWISH_'): 1,\n",
       " ('_JEWISHSUPREMACY_', '_JEW_'): 1,\n",
       " ('_JEWISHSUPREMACY_', '_JUDAISM_'): 1,\n",
       " ('_JEWISHSUPREMACY_', '_ZIONISM_'): 1,\n",
       " ('_JEWRY_', '_KOSHER_'): 4,\n",
       " ('_JOOZ_', '_ZIONISM_'): 1,\n",
       " ('_JEWISH_', '_JEWSCONTROL_'): 1,\n",
       " ('_JEWHATER_', '_JEWISH_'): 2,\n",
       " ('_ASHKENAZI_', '_JEWISHLOBBY_'): 5,\n",
       " ('_JEWISHLOBBY_', '_JUDAISM_'): 3,\n",
       " ('_JEWISHLOBBY_', '_KHAZAR_'): 2,\n",
       " ('_JEWISHLOBBY_', '_ZIONISM_'): 2,\n",
       " ('_ZIONISM_', '_ZOG_'): 5,\n",
       " ('_JEWISH_', '_ZOG_'): 5,\n",
       " ('_HEBREW_', '_JEWISHLOBBY_'): 1,\n",
       " ('_HEBREW_', '_ZOG_'): 1,\n",
       " ('_JEWISHLOBBY_', '_ZOG_'): 1,\n",
       " ('_JUDAISM_', '_ZOG_'): 2,\n",
       " ('_JEW_', '_JUD_'): 1,\n",
       " ('_ZIONIST_', '_ZIO_'): 1,\n",
       " ('_GOY_', '_KOSHER_'): 1,\n",
       " ('_JUDAISM_', '_KOSHER_'): 1,\n",
       " ('_GOY_', '_HEEB_'): 1,\n",
       " ('_KOSHER_', '_ZIONISM_'): 1,\n",
       " ('_GASCHAMBER_', '_ZIONIST_'): 1,\n",
       " ('_JEWHATER_', '_JUDAISM_'): 1,\n",
       " ('_JEWRY_', '_ZIONIST_'): 1}"
      ]
     },
     "execution_count": 26,
     "metadata": {},
     "output_type": "execute_result"
    }
   ],
   "source": [
    "co_table"
   ]
  },
  {
   "cell_type": "markdown",
   "id": "c98ee27e",
   "metadata": {},
   "source": [
    "# Extras"
   ]
  },
  {
   "cell_type": "markdown",
   "id": "353eaa25",
   "metadata": {},
   "source": [
    "### Co-ocurrance of lables of the terms"
   ]
  },
  {
   "cell_type": "code",
   "execution_count": 34,
   "id": "6a859510",
   "metadata": {},
   "outputs": [],
   "source": [
    "all_terms_labels = {}\n",
    "\n",
    "for i in range(len(pegl)):\n",
    "    all_terms_labels[pegl[i][0]] = pegl[i][1]\n",
    "               \n",
    "for i in range(len(phsd)):\n",
    "    all_terms_labels[phsd[i][0]] = phsd[i][1]"
   ]
  },
  {
   "cell_type": "code",
   "execution_count": 59,
   "id": "32d7f475",
   "metadata": {},
   "outputs": [],
   "source": [
    "def coocurrence2(textLists, terms):\n",
    "    label_count = {}\n",
    "    tuple_count = {}\n",
    "    keys = terms.keys()\n",
    "    \n",
    "    for text in textLists:\n",
    "        chunkSet = set(text)\n",
    "        \n",
    "        labelsSet = set()\n",
    "        for chunk in chunkSet:\n",
    "            if chunk in keys:\n",
    "                labelsSet.add(terms[chunk]) #get label of the chunk, put it on the labels list\n",
    "        \n",
    "        if len(labelsSet) <= 1: #if text is not \"toxic\" or only has one \"toxic\" term\n",
    "            labelsSet.add(\"~ none\") # append 'none', this will give us the count of pure text and lonely words\n",
    "        \n",
    "        for label in labelsSet:\n",
    "            label_count[label] = label_count.get(label, 0) + 1\n",
    "        \n",
    "        labelsList = list(labelsSet)\n",
    "        combo = list(itertools.permutations(labelsList, 2))\n",
    "        \n",
    "        for pair in combo:\n",
    "            tuple_count[pair] = tuple_count.get(pair, 0) + 1\n",
    "\n",
    "    return (label_count, tuple_count)"
   ]
  },
  {
   "cell_type": "code",
   "execution_count": 60,
   "id": "e044ccd3",
   "metadata": {},
   "outputs": [],
   "source": [
    "label_count, co_table_label = coocurrence2(psubs+pcoms, all_terms_labels)"
   ]
  },
  {
   "cell_type": "code",
   "execution_count": 61,
   "id": "d210631f",
   "metadata": {},
   "outputs": [],
   "source": [
    "label1 = []\n",
    "label2 = []\n",
    "count = []\n",
    "\n",
    "for k, v in co_table_label.items():\n",
    "    l1, l2 = k\n",
    "    label1.append(l1)\n",
    "    label2.append(l2)\n",
    "    count.append(v)"
   ]
  },
  {
   "cell_type": "code",
   "execution_count": 62,
   "id": "18f3e94a",
   "metadata": {
    "scrolled": false
   },
   "outputs": [],
   "source": [
    "df = pd.DataFrame({\n",
    "    'label_one': label1,\n",
    "    'label_two': label2,\n",
    "    'co_count': count\n",
    "})\n",
    "df.to_csv(\"label_co_count.csv\", sep=',')\n",
    "\n",
    "df = pd.DataFrame({\n",
    "    \"label\": label_count.keys(),\n",
    "    \"count\": label_count.values()\n",
    "})\n",
    "df.to_csv(\"label_count.csv\", sep=',')\n"
   ]
  },
  {
   "cell_type": "markdown",
   "id": "ee1e35ba",
   "metadata": {},
   "source": [
    "# 6. Netork co-ocurrence explicit vs implicit"
   ]
  },
  {
   "cell_type": "code",
   "execution_count": 63,
   "id": "cfeee1a8",
   "metadata": {},
   "outputs": [],
   "source": [
    "#get only explicit and implicit terms\n",
    "all_egl_terms = {}\n",
    "for i in range(len(pegl)):\n",
    "    \n",
    "    if pegl[i][1] in ['direct', 'hate_speech']:\n",
    "        all_egl_terms[pegl[i][0]] = 'explicit'\n",
    "    else:\n",
    "        all_egl_terms[pegl[i][0]] = 'implicit'\n"
   ]
  },
  {
   "cell_type": "code",
   "execution_count": 64,
   "id": "df26cd59",
   "metadata": {},
   "outputs": [
    {
     "data": {
      "text/html": [
       "<div>\n",
       "<style scoped>\n",
       "    .dataframe tbody tr th:only-of-type {\n",
       "        vertical-align: middle;\n",
       "    }\n",
       "\n",
       "    .dataframe tbody tr th {\n",
       "        vertical-align: top;\n",
       "    }\n",
       "\n",
       "    .dataframe thead th {\n",
       "        text-align: right;\n",
       "    }\n",
       "</style>\n",
       "<table border=\"1\" class=\"dataframe\">\n",
       "  <thead>\n",
       "    <tr style=\"text-align: right;\">\n",
       "      <th></th>\n",
       "      <th>type</th>\n",
       "      <th>label</th>\n",
       "      <th>term</th>\n",
       "      <th>code</th>\n",
       "      <th>exclude</th>\n",
       "    </tr>\n",
       "  </thead>\n",
       "  <tbody>\n",
       "    <tr>\n",
       "      <th>1214</th>\n",
       "      <td>explicit</td>\n",
       "      <td>direct</td>\n",
       "      <td>zionism</td>\n",
       "      <td>1</td>\n",
       "      <td>0</td>\n",
       "    </tr>\n",
       "  </tbody>\n",
       "</table>\n",
       "</div>"
      ],
      "text/plain": [
       "          type   label     term  code  exclude\n",
       "1214  explicit  direct  zionism     1        0"
      ]
     },
     "execution_count": 64,
     "metadata": {},
     "output_type": "execute_result"
    }
   ],
   "source": [
    "egl[egl['term'] == 'zionism']"
   ]
  },
  {
   "cell_type": "code",
   "execution_count": 65,
   "id": "6e39d7ab",
   "metadata": {},
   "outputs": [],
   "source": [
    "#find all the edges\n",
    "co_table_egl = coocurrence(psubs + pcoms, set(all_egl_terms.keys()))"
   ]
  },
  {
   "cell_type": "code",
   "execution_count": 66,
   "id": "b1522db9",
   "metadata": {},
   "outputs": [],
   "source": [
    "#prep for the node table\n",
    "node_id = {}\n",
    "count = 0\n",
    "for k in all_egl_terms.keys():\n",
    "    node_id[k] = count\n",
    "    count+=1"
   ]
  },
  {
   "cell_type": "code",
   "execution_count": 67,
   "id": "64882532",
   "metadata": {},
   "outputs": [],
   "source": [
    "#create the node table\n",
    "nodes = pd.DataFrame({\n",
    "    \"id\": node_id.values(),\n",
    "    \"term\" : node_id.keys(),\n",
    "    \"type\": all_egl_terms.values()\n",
    "})\n",
    "\n",
    "nodes.to_csv(\"node.csv\", sep=\",\", index=False)"
   ]
  },
  {
   "cell_type": "code",
   "execution_count": 69,
   "id": "79ef488c",
   "metadata": {},
   "outputs": [],
   "source": [
    "# create the edge table\n",
    "source = []\n",
    "target = []\n",
    "term1_list = []\n",
    "term2_list = []\n",
    "lab1_list = []\n",
    "lab2_list = []\n",
    "group_list = []\n",
    "count = []\n",
    "\n",
    "for k, v in co_table_egl.items():\n",
    "    tt1, tt2 = k\n",
    "    source.append(node_id[tt1])\n",
    "    target.append(node_id[tt2])\n",
    "    term1_list.append(tt1)\n",
    "    term2_list.append(tt2)\n",
    "    lab1_list.append(nodes[nodes[\"term\"] == tt1]['type'].values[0]) \n",
    "    lab2_list.append(nodes[nodes[\"term\"] == tt2]['type'].values[0])\n",
    "    \n",
    "    if nodes[nodes[\"term\"] == tt2]['type'].values[0] == nodes[nodes[\"term\"] == tt1]['type'].values[0]:\n",
    "        if nodes[nodes[\"term\"] == tt1]['type'].values[0] == \"implicit\":\n",
    "            group_list.append('imp-imp')\n",
    "        else:\n",
    "            group_list.append('exp-exp')\n",
    "    else:\n",
    "        group_list.append('imp-exp')\n",
    "        \n",
    "    \n",
    "    count.append(v)\n",
    "    \n",
    "#glue the table columns\n",
    "edges = pd.DataFrame({\n",
    "    'Source': source,\n",
    "    'Target': target,\n",
    "    'term_one': term1_list,\n",
    "    'term_two': term2_list,\n",
    "    'label_one': lab1_list,\n",
    "    'label_two': lab2_list,\n",
    "    'count': count,\n",
    "    'group': group_list\n",
    "})\n",
    "edges.to_csv(\"edge.csv\", sep=\",\", index=False)"
   ]
  },
  {
   "cell_type": "markdown",
   "id": "0d9d36ce",
   "metadata": {},
   "source": [
    "# Post frequency & category by month"
   ]
  },
  {
   "cell_type": "code",
   "execution_count": 70,
   "id": "73ce2dcd",
   "metadata": {},
   "outputs": [],
   "source": [
    "subs['Category'] = subs['subreddit'] + \" Submission\"\n",
    "coms['Category'] = coms['subreddit'] + \" Comments\""
   ]
  },
  {
   "cell_type": "code",
   "execution_count": 71,
   "id": "99e2d066",
   "metadata": {},
   "outputs": [],
   "source": [
    "df_1 = pd.concat([subs, coms])"
   ]
  },
  {
   "cell_type": "code",
   "execution_count": 72,
   "id": "4c5cbb44",
   "metadata": {
    "scrolled": true
   },
   "outputs": [
    {
     "data": {
      "text/html": [
       "<div>\n",
       "<style scoped>\n",
       "    .dataframe tbody tr th:only-of-type {\n",
       "        vertical-align: middle;\n",
       "    }\n",
       "\n",
       "    .dataframe tbody tr th {\n",
       "        vertical-align: top;\n",
       "    }\n",
       "\n",
       "    .dataframe thead th {\n",
       "        text-align: right;\n",
       "    }\n",
       "</style>\n",
       "<table border=\"1\" class=\"dataframe\">\n",
       "  <thead>\n",
       "    <tr style=\"text-align: right;\">\n",
       "      <th></th>\n",
       "      <th>author</th>\n",
       "      <th>subreddit</th>\n",
       "      <th>created_utc</th>\n",
       "      <th>post_id</th>\n",
       "      <th>title</th>\n",
       "      <th>selftext</th>\n",
       "      <th>score</th>\n",
       "      <th>text</th>\n",
       "      <th>Category</th>\n",
       "      <th>parent_comment_id</th>\n",
       "      <th>associated_sub_id</th>\n",
       "    </tr>\n",
       "  </thead>\n",
       "  <tbody>\n",
       "    <tr>\n",
       "      <th>0</th>\n",
       "      <td>-4D-</td>\n",
       "      <td>CBTS_Stream</td>\n",
       "      <td>2017-12-20 00:24:12</td>\n",
       "      <td>7kzb51</td>\n",
       "      <td>Hello all</td>\n",
       "      <td>This is so new to me  Reddit never used befor...</td>\n",
       "      <td>9</td>\n",
       "      <td>Hello all This is so new to me  Reddit never u...</td>\n",
       "      <td>CBTS_Stream Submission</td>\n",
       "      <td>NaN</td>\n",
       "      <td>NaN</td>\n",
       "    </tr>\n",
       "    <tr>\n",
       "      <th>1</th>\n",
       "      <td>-4D-</td>\n",
       "      <td>CBTS_Stream</td>\n",
       "      <td>2017-12-20 03:26:25</td>\n",
       "      <td>7l042s</td>\n",
       "      <td>Crypto</td>\n",
       "      <td>Is it safe to say that crypto currencies are ...</td>\n",
       "      <td>1</td>\n",
       "      <td>Crypto Is it safe to say that crypto currencie...</td>\n",
       "      <td>CBTS_Stream Submission</td>\n",
       "      <td>NaN</td>\n",
       "      <td>NaN</td>\n",
       "    </tr>\n",
       "    <tr>\n",
       "      <th>2</th>\n",
       "      <td>-4D-</td>\n",
       "      <td>CBTS_Stream</td>\n",
       "      <td>2018-01-04 10:38:59</td>\n",
       "      <td>7o3ql8</td>\n",
       "      <td>Note Treys words. He mentioned seeing the evid...</td>\n",
       "      <td></td>\n",
       "      <td>225</td>\n",
       "      <td>Note Treys words. He mentioned seeing the evid...</td>\n",
       "      <td>CBTS_Stream Submission</td>\n",
       "      <td>NaN</td>\n",
       "      <td>NaN</td>\n",
       "    </tr>\n",
       "    <tr>\n",
       "      <th>3</th>\n",
       "      <td>-4D-</td>\n",
       "      <td>CBTS_Stream</td>\n",
       "      <td>2018-01-04 18:57:54</td>\n",
       "      <td>7o71u3</td>\n",
       "      <td>We ask who Q is. Have I just stumbled on what ...</td>\n",
       "      <td>Hi to all my fellow truthers out there. I hav...</td>\n",
       "      <td>44</td>\n",
       "      <td>We ask who Q is. Have I just stumbled on what ...</td>\n",
       "      <td>CBTS_Stream Submission</td>\n",
       "      <td>NaN</td>\n",
       "      <td>NaN</td>\n",
       "    </tr>\n",
       "    <tr>\n",
       "      <th>4</th>\n",
       "      <td>-4D-</td>\n",
       "      <td>CBTS_Stream</td>\n",
       "      <td>2018-01-10 10:59:46</td>\n",
       "      <td>7pghf7</td>\n",
       "      <td>Is this where we will see POTUS make a move to...</td>\n",
       "      <td></td>\n",
       "      <td>4</td>\n",
       "      <td>Is this where we will see POTUS make a move to...</td>\n",
       "      <td>CBTS_Stream Submission</td>\n",
       "      <td>NaN</td>\n",
       "      <td>NaN</td>\n",
       "    </tr>\n",
       "  </tbody>\n",
       "</table>\n",
       "</div>"
      ],
      "text/plain": [
       "  author    subreddit          created_utc post_id  \\\n",
       "0   -4D-  CBTS_Stream  2017-12-20 00:24:12  7kzb51   \n",
       "1   -4D-  CBTS_Stream  2017-12-20 03:26:25  7l042s   \n",
       "2   -4D-  CBTS_Stream  2018-01-04 10:38:59  7o3ql8   \n",
       "3   -4D-  CBTS_Stream  2018-01-04 18:57:54  7o71u3   \n",
       "4   -4D-  CBTS_Stream  2018-01-10 10:59:46  7pghf7   \n",
       "\n",
       "                                               title  \\\n",
       "0                                          Hello all   \n",
       "1                                             Crypto   \n",
       "2  Note Treys words. He mentioned seeing the evid...   \n",
       "3  We ask who Q is. Have I just stumbled on what ...   \n",
       "4  Is this where we will see POTUS make a move to...   \n",
       "\n",
       "                                            selftext  score  \\\n",
       "0   This is so new to me  Reddit never used befor...      9   \n",
       "1   Is it safe to say that crypto currencies are ...      1   \n",
       "2                                                       225   \n",
       "3   Hi to all my fellow truthers out there. I hav...     44   \n",
       "4                                                         4   \n",
       "\n",
       "                                                text                Category  \\\n",
       "0  Hello all This is so new to me  Reddit never u...  CBTS_Stream Submission   \n",
       "1  Crypto Is it safe to say that crypto currencie...  CBTS_Stream Submission   \n",
       "2  Note Treys words. He mentioned seeing the evid...  CBTS_Stream Submission   \n",
       "3  We ask who Q is. Have I just stumbled on what ...  CBTS_Stream Submission   \n",
       "4  Is this where we will see POTUS make a move to...  CBTS_Stream Submission   \n",
       "\n",
       "  parent_comment_id associated_sub_id  \n",
       "0               NaN               NaN  \n",
       "1               NaN               NaN  \n",
       "2               NaN               NaN  \n",
       "3               NaN               NaN  \n",
       "4               NaN               NaN  "
      ]
     },
     "execution_count": 72,
     "metadata": {},
     "output_type": "execute_result"
    }
   ],
   "source": [
    "df_1.head()"
   ]
  },
  {
   "cell_type": "code",
   "execution_count": 73,
   "id": "a26dc4f2",
   "metadata": {},
   "outputs": [],
   "source": [
    "df_1['created_utc'] = pd.to_datetime(df_1['created_utc'])"
   ]
  },
  {
   "cell_type": "code",
   "execution_count": 74,
   "id": "918e69d3",
   "metadata": {
    "scrolled": true
   },
   "outputs": [
    {
     "data": {
      "image/png": "[encoded data removed]",
      "text/plain": [
       "<Figure size 720x432 with 1 Axes>"
      ]
     },
     "metadata": {
      "needs_background": "light"
     },
     "output_type": "display_data"
    }
   ],
   "source": [
    "# Extract the year and month from the 'created_utc' column and create a new column 'YearMonth'\n",
    "df_1['YearMonth'] = df_1['created_utc'].dt.to_period('M')\n",
    "\n",
    "# Group the DataFrame by 'YearMonth' and 'Category' and calculate the count\n",
    "grouped = df_1.groupby(['YearMonth', 'Category']).size().unstack(fill_value=0)\n",
    "\n",
    "# Plot the bar chart\n",
    "ax = grouped.plot(kind='bar', stacked=True, figsize=(10, 6))\n",
    "plt.xlabel('Year-Month')\n",
    "plt.ylabel('Total Count')\n",
    "plt.title('Bar Chart of Total Counts by Year-Month and Category')\n",
    "plt.xticks(rotation=45)  # Rotate x-axis labels for better visibility\n",
    "plt.legend(title='Category')\n",
    "plt.grid()\n",
    "plt.show()"
   ]
  },
  {
   "cell_type": "markdown",
   "id": "ea468e9b",
   "metadata": {},
   "source": [
    "## Crossover users between CBTS & Great Awakening"
   ]
  },
  {
   "cell_type": "code",
   "execution_count": 77,
   "id": "fd31809a",
   "metadata": {},
   "outputs": [],
   "source": [
    "cbts_users = set(subs[subs['subreddit'] == 'CBTS_Stream']['author']).union(set(coms[coms['subreddit'] == 'CBTS_Stream']['author']))\n",
    "ga_users = set(subs[subs['subreddit'] == 'greatawakening']['author']).union(set(coms[coms['subreddit'] == 'greatawakening']['author']))\n",
    "crossover_users = cbts_users.intersection(ga_users)"
   ]
  },
  {
   "cell_type": "code",
   "execution_count": 78,
   "id": "0f0e0f7f",
   "metadata": {},
   "outputs": [
    {
     "data": {
      "text/plain": [
       "4887"
      ]
     },
     "execution_count": 78,
     "metadata": {},
     "output_type": "execute_result"
    }
   ],
   "source": [
    "len(crossover_users)"
   ]
  },
  {
   "cell_type": "code",
   "execution_count": 79,
   "id": "3d67c3d5",
   "metadata": {},
   "outputs": [],
   "source": [
    "grouped = df_1.groupby('author').size().reset_index(name='row_count')\n",
    "\n",
    "# Sort by the count in descending order\n",
    "sorted_grouped = grouped.sort_values(by='row_count', ascending=False)\n",
    "\n",
    "# Calculate the number of users to select (top 10%)\n",
    "top_10_percent = int(0.05 * len(sorted_grouped))\n",
    "\n",
    "# Select the top 10% of users with the highest counts\n",
    "top_users = sorted_grouped.head(top_10_percent)\n",
    "\n",
    "top_users_names = set(top_users['author'])"
   ]
  },
  {
   "cell_type": "code",
   "execution_count": 80,
   "id": "24e04a8c",
   "metadata": {},
   "outputs": [
    {
     "data": {
      "text/plain": [
       "974"
      ]
     },
     "execution_count": 80,
     "metadata": {},
     "output_type": "execute_result"
    }
   ],
   "source": [
    "len(top_users_names.intersection(crossover_users))"
   ]
  },
  {
   "cell_type": "code",
   "execution_count": 81,
   "id": "a07780d7",
   "metadata": {},
   "outputs": [
    {
     "data": {
      "text/html": [
       "<div>\n",
       "<style scoped>\n",
       "    .dataframe tbody tr th:only-of-type {\n",
       "        vertical-align: middle;\n",
       "    }\n",
       "\n",
       "    .dataframe tbody tr th {\n",
       "        vertical-align: top;\n",
       "    }\n",
       "\n",
       "    .dataframe thead th {\n",
       "        text-align: right;\n",
       "    }\n",
       "</style>\n",
       "<table border=\"1\" class=\"dataframe\">\n",
       "  <thead>\n",
       "    <tr style=\"text-align: right;\">\n",
       "      <th></th>\n",
       "      <th>author</th>\n",
       "      <th>row_count</th>\n",
       "    </tr>\n",
       "  </thead>\n",
       "  <tbody>\n",
       "    <tr>\n",
       "      <th>19180</th>\n",
       "      <td>[deleted]</td>\n",
       "      <td>101474</td>\n",
       "    </tr>\n",
       "    <tr>\n",
       "      <th>22562</th>\n",
       "      <td>digital_refugee</td>\n",
       "      <td>7392</td>\n",
       "    </tr>\n",
       "    <tr>\n",
       "      <th>13306</th>\n",
       "      <td>Pure_Feature</td>\n",
       "      <td>5163</td>\n",
       "    </tr>\n",
       "    <tr>\n",
       "      <th>31458</th>\n",
       "      <td>solanojones95</td>\n",
       "      <td>4926</td>\n",
       "    </tr>\n",
       "    <tr>\n",
       "      <th>31828</th>\n",
       "      <td>storm_fa_Q</td>\n",
       "      <td>4414</td>\n",
       "    </tr>\n",
       "    <tr>\n",
       "      <th>...</th>\n",
       "      <td>...</td>\n",
       "      <td>...</td>\n",
       "    </tr>\n",
       "    <tr>\n",
       "      <th>14988</th>\n",
       "      <td>Seahag14</td>\n",
       "      <td>145</td>\n",
       "    </tr>\n",
       "    <tr>\n",
       "      <th>19061</th>\n",
       "      <td>ZLegacy</td>\n",
       "      <td>145</td>\n",
       "    </tr>\n",
       "    <tr>\n",
       "      <th>19555</th>\n",
       "      <td>aleister</td>\n",
       "      <td>145</td>\n",
       "    </tr>\n",
       "    <tr>\n",
       "      <th>19740</th>\n",
       "      <td>andsotheydid</td>\n",
       "      <td>145</td>\n",
       "    </tr>\n",
       "    <tr>\n",
       "      <th>10521</th>\n",
       "      <td>Mandrake_Muffley</td>\n",
       "      <td>145</td>\n",
       "    </tr>\n",
       "  </tbody>\n",
       "</table>\n",
       "<p>1725 rows × 2 columns</p>\n",
       "</div>"
      ],
      "text/plain": [
       "                 author  row_count\n",
       "19180         [deleted]     101474\n",
       "22562   digital_refugee       7392\n",
       "13306      Pure_Feature       5163\n",
       "31458     solanojones95       4926\n",
       "31828        storm_fa_Q       4414\n",
       "...                 ...        ...\n",
       "14988          Seahag14        145\n",
       "19061           ZLegacy        145\n",
       "19555          aleister        145\n",
       "19740      andsotheydid        145\n",
       "10521  Mandrake_Muffley        145\n",
       "\n",
       "[1725 rows x 2 columns]"
      ]
     },
     "execution_count": 81,
     "metadata": {},
     "output_type": "execute_result"
    }
   ],
   "source": [
    "top_users"
   ]
  }
 ],
 "metadata": {
  "kernelspec": {
   "display_name": "Python 3",
   "language": "python",
   "name": "python3"
  },
  "language_info": {
   "codemirror_mode": {
    "name": "ipython",
    "version": 3
   },
   "file_extension": ".py",
   "mimetype": "text/x-python",
   "name": "python",
   "nbconvert_exporter": "python",
   "pygments_lexer": "ipython3",
   "version": "3.8.8"
  }
 },
 "nbformat": 4,
 "nbformat_minor": 5
}
